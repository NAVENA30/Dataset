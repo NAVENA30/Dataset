{
  "nbformat": 4,
  "nbformat_minor": 0,
  "metadata": {
    "colab": {
      "provenance": [],
      "authorship_tag": "ABX9TyMmYgWUwjf4xHdWulIsRyQo",
      "include_colab_link": true
    },
    "kernelspec": {
      "name": "python3",
      "display_name": "Python 3"
    },
    "language_info": {
      "name": "python"
    }
  },
  "cells": [
    {
      "cell_type": "markdown",
      "metadata": {
        "id": "view-in-github",
        "colab_type": "text"
      },
      "source": [
        "<a href=\"https://colab.research.google.com/github/NAVENA30/Dataset/blob/main/KNeighbors_Classifier.ipynb\" target=\"_parent\"><img src=\"https://colab.research.google.com/assets/colab-badge.svg\" alt=\"Open In Colab\"/></a>"
      ]
    },
    {
      "cell_type": "code",
      "execution_count": null,
      "metadata": {
        "colab": {
          "base_uri": "https://localhost:8080/"
        },
        "id": "UIkMHb8DSEo6",
        "outputId": "d8dd8bcc-8257-4733-c6a8-91c94799883d"
      },
      "outputs": [
        {
          "output_type": "stream",
          "name": "stdout",
          "text": [
            "prediction Class: Non-Athlete\n"
          ]
        }
      ],
      "source": [
        "from sklearn.neighbors import KNeighborsClassifier\n",
        "X=[\n",
        "    [170, 65],\n",
        "    [160, 50],\n",
        "    [180, 80],\n",
        "    [150, 45],\n",
        "    [155, 48],\n",
        "    [165, 55]\n",
        "]\n",
        "#LAbels (Classes)\n",
        "y = ['Athelete', 'Athlete', 'Athlete','Non-Athlete','Non-Athlete','Non-Athlete']\n",
        "#step 2: Test point\n",
        "test_point = [[120, 48]] #Note: 2D array ewquired for sklearn\n",
        "#step 3: Create and train the K-NN model\n",
        "Knn = KNeighborsClassifier(n_neighbors=3)\n",
        "Knn.fit(X, y)\n",
        "#Step 4: predict the class\n",
        "prediction = Knn.predict(test_point)\n",
        "print(\"prediction Class:\", prediction[0])\n",
        "#Step 5: visualization\n",
        "#predicted Class: Non-Athlete"
      ]
    }
  ]
}